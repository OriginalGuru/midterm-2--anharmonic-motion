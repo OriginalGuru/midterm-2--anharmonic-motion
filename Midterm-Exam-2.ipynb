{
 "cells": [
  {
   "cell_type": "markdown",
   "id": "e6539390-a73e-4cb9-a5cf-deadf31549aa",
   "metadata": {},
   "source": [
    "# Midterm Exam #2\n",
    "\n",
    "**Setup**: You may neglect damping in all parts of this exam. For the computational components, you can assume $m = K = D = 1$, in their characteristic units. Both problems are equally weighted.\n",
    "\n",
    "---\n",
    "\n",
    "### Problem 1: Quartic Anharmonic Oscillator with Positive Quadratic Term\n",
    "\n",
    "Consider the anharmonic oscillator described by the potential energy function:\n",
    "$$\n",
    "U(Q) = \\frac{1}{2} K Q^2 + \\frac{1}{4} D Q^4\n",
    "$$\n",
    "\n",
    "1. **Harmonic Frequency**\n",
    "   * (a) Assuming small oscillations, derive an expression for the harmonic frequency of this system when $Q$ is close to zero.\n",
    "\n",
    "2. **Comparison of Terms in the Potential**\n",
    "   * (a) Find an expression for the value of $Q$ at which the fourth-order term $\\frac{1}{4} D Q^4$ becomes larger than the second-order term $\\frac{1}{2} K Q^2$. Discuss what this indicates about the relative importance of each term at larger amplitudes.\n",
    "\n",
    "3. **Equation of Motion**\n",
    "   * (a) Write down the equation of motion for this system.\n",
    "\n",
    "4. **Amplitude-Dependent Frequency (Computational)**\n",
    "   * (a) Numerically solve for the angular frequency of the oscillator as a function of initial amplitude $Q_0$ (for zero initial velocity). One potential approach is to solve the equation of motion using a differential equation solver and then apply a root-finding algorithm to locate the period.\n",
    "   * (b) Plot the frequency as a function of the starting amplitude $Q_0$.\n",
    "   * (c) Describe and explain how the frequency changes with amplitude.\n"
   ]
  },
  {
   "cell_type": "markdown",
   "id": "703f639f-b963-4e8a-bab3-9b5702fddeca",
   "metadata": {},
   "source": [
    "---\n",
    "\n",
    "### Problem 2: Double-Well Potential with Negative Quadratic Term\n",
    "\n",
    "Now consider the anharmonic oscillator with a negative quadratic term:\n",
    "$$\n",
    "U(Q) = -\\frac{1}{2} K Q^2 + \\frac{1}{4} D Q^4\n",
    "$$\n",
    "\n",
    "1. **Equilibrium Points and Potential Energy**\n",
    "   * (a) Derive expressions for the equilibrium points $Q_{\\pm}$.\n",
    "   * (b) Calculate $U(Q_{\\pm})$ and describe the general shape of the potential energy curve.\n",
    "\n",
    "2. **Frequency Near \\( Q_{\\pm} \\)**\n",
    "   * (a) Find an analytic expression for the frequency of small oscillations around one of the minima, $Q_{\\pm}$.\n",
    "\n",
    "3. **Amplitude-Dependent Frequency (Computational)**\n",
    "   * (a) Numerically find the angular frequency of oscillations as a function of the initial amplitude $Q_{\\text{initial}}$ (for zero initial velocity). Use a range of initial values $Q_{\\text{initial}}$ that spans from $-\\sqrt{2}$ to $0$.\n",
    "   * (b) Plot the frequency as a function of the starting amplitude $Q_{\\text{initial}}$.\n",
    "   * (c) Explain the observed behavior, noting the changes in frequency as the initial amplitude approaches the peak between the wells.\n",
    "\n",
    "4. **Discussion of Motion Across Regimes**\n",
    "   - (a) Reflect on the frequency behavior for larger initial amplitudes, where \\( Q \\) can cross the central barrier between wells. How does this differ from motion confined within a single well?\n",
    "   - (b) What conclusions can you draw about the effect of the anharmonic terms on the dynamics in each regime?"
   ]
  },
  {
   "cell_type": "code",
   "execution_count": null,
   "id": "cf2c7dba-ca39-4d90-a88a-99e83a2534ee",
   "metadata": {},
   "outputs": [],
   "source": []
  }
 ],
 "metadata": {
  "kernelspec": {
   "display_name": "Python 3 (ipykernel)",
   "language": "python",
   "name": "python3"
  },
  "language_info": {
   "codemirror_mode": {
    "name": "ipython",
    "version": 3
   },
   "file_extension": ".py",
   "mimetype": "text/x-python",
   "name": "python",
   "nbconvert_exporter": "python",
   "pygments_lexer": "ipython3",
   "version": "3.9.20"
  }
 },
 "nbformat": 4,
 "nbformat_minor": 5
}
